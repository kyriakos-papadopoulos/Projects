{
 "cells": [
  {
   "cell_type": "code",
   "execution_count": 3,
   "id": "31e19809",
   "metadata": {},
   "outputs": [],
   "source": [
    "import numpy"
   ]
  },
  {
   "cell_type": "code",
   "execution_count": 4,
   "id": "6502f2ca",
   "metadata": {},
   "outputs": [],
   "source": [
    "row=3"
   ]
  },
  {
   "cell_type": "code",
   "execution_count": 11,
   "id": "b0a44d9b",
   "metadata": {},
   "outputs": [],
   "source": [
    "grid=[1,2,3,4,5,6,7,8,9]"
   ]
  },
  {
   "cell_type": "code",
   "execution_count": 12,
   "id": "3b83dc77",
   "metadata": {},
   "outputs": [],
   "source": [
    "matrix=[grid[i*3:(i*3)+row]for i in range(row)]"
   ]
  },
  {
   "cell_type": "code",
   "execution_count": 17,
   "id": "516a1008",
   "metadata": {},
   "outputs": [],
   "source": [
    "game=numpy.array(matrix)"
   ]
  },
  {
   "cell_type": "code",
   "execution_count": 19,
   "id": "5b3aa160",
   "metadata": {},
   "outputs": [
    {
     "data": {
      "text/plain": [
       "6"
      ]
     },
     "execution_count": 19,
     "metadata": {},
     "output_type": "execute_result"
    }
   ],
   "source": []
  },
  {
   "cell_type": "markdown",
   "id": "5e31c08e",
   "metadata": {},
   "source": []
  }
 ],
 "metadata": {
  "kernelspec": {
   "display_name": "Python 3 (ipykernel)",
   "language": "python",
   "name": "python3"
  },
  "language_info": {
   "codemirror_mode": {
    "name": "ipython",
    "version": 3
   },
   "file_extension": ".py",
   "mimetype": "text/x-python",
   "name": "python",
   "nbconvert_exporter": "python",
   "pygments_lexer": "ipython3",
   "version": "3.7.6"
  }
 },
 "nbformat": 4,
 "nbformat_minor": 5
}
