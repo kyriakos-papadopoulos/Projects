{
 "cells": [
  {
   "cell_type": "code",
   "execution_count": 1,
   "id": "b93d8378",
   "metadata": {},
   "outputs": [],
   "source": [
    "import requests"
   ]
  },
  {
   "cell_type": "code",
   "execution_count": 4,
   "id": "05fba1d6",
   "metadata": {},
   "outputs": [
    {
     "name": "stdout",
     "output_type": "stream",
     "text": [
      "Error: 400\n",
      "{\"error\":{\"message\":\"Got unexpected null\",\"type\":\"OAuthException\",\"code\":190,\"fbtrace_id\":\"AjaE3dcH3DLTYqoxTnRuKi3\"}}\n"
     ]
    }
   ],
   "source": [
    "# Define your access token and endpoint\n",
    "access_token = 'YOUR_ACCESS_TOKEN'\n",
    "ad_library_endpoint = 'https://graph.facebook.com/v13.0/ads_archive'\n",
    "\n",
    "# Set up the parameters for the API request\n",
    "params = {\n",
    "    'access_token': access_token,\n",
    "    'ad_type': 'POLITICAL_AND_ISSUE_ADS',\n",
    "    'search_terms': 'election',\n",
    "    'ad_reached_countries': 'US',\n",
    "    'fields': 'ad_creative_body,ad_creative_link_caption,ad_creative_link_title,ad_delivery_start_time,ad_delivery_stop_time'\n",
    "}\n",
    "\n",
    "# Make the API request\n",
    "response = requests.get(ad_library_endpoint, params=params)\n",
    "\n",
    "# Check if the request was successful\n",
    "if response.status_code == 200:\n",
    "    data = response.json()\n",
    "    # Process the data as needed\n",
    "    print(data)\n",
    "else:\n",
    "    print(f\"Error: {response.status_code}\")\n",
    "    print(response.text)"
   ]
  },
  {
   "cell_type": "code",
   "execution_count": null,
   "id": "152d17f8",
   "metadata": {},
   "outputs": [],
   "source": []
  }
 ],
 "metadata": {
  "kernelspec": {
   "display_name": "Python 3 (ipykernel)",
   "language": "python",
   "name": "python3"
  },
  "language_info": {
   "codemirror_mode": {
    "name": "ipython",
    "version": 3
   },
   "file_extension": ".py",
   "mimetype": "text/x-python",
   "name": "python",
   "nbconvert_exporter": "python",
   "pygments_lexer": "ipython3",
   "version": "3.7.6"
  }
 },
 "nbformat": 4,
 "nbformat_minor": 5
}
