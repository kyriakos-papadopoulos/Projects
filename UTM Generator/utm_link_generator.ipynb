{
 "cells": [
  {
   "cell_type": "code",
   "execution_count": null,
   "id": "2fcd6038-7233-462b-aa0a-0fe6316298db",
   "metadata": {},
   "outputs": [],
   "source": [
    "import tkinter as tk\n",
    "\n",
    "def generator():\n",
    "    destination = destination_entry.get().lower().strip().replace(\" \", \"-\")\n",
    "    source = source_entry.get().lower().strip().replace(\" \", \"-\")\n",
    "    medium = medium_entry.get().lower().strip().replace(\" \", \"-\")\n",
    "    campaign = campaign_entry.get().lower().strip().replace(\" \", \"-\")\n",
    "    term = term_entry.get().lower().strip().replace(\" \", \"-\")\n",
    "    utm_link = destination + \"?utm_source=\" + source + \"&utm_medium=\" + medium + \"&utm_campaign=\" + campaign + \"&utm_term=\" + term\n",
    "    result_label.config(text=\"Here is your UTM link:\\n\" + utm_link)\n",
    "\n",
    "root = tk.Tk()\n",
    "root.title(\"UTM Link Generator\")\n",
    "\n",
    "destination_label = tk.Label(root, text=\"Destination Product URL:\")\n",
    "destination_label.grid(row=0, column=0, sticky=\"w\")\n",
    "destination_entry = tk.Entry(root)\n",
    "destination_entry.grid(row=0, column=1)\n",
    "\n",
    "source_label = tk.Label(root, text=\"Source of the Campaign:\")\n",
    "source_label.grid(row=1, column=0, sticky=\"w\")\n",
    "source_entry = tk.Entry(root)\n",
    "source_entry.grid(row=1, column=1)\n",
    "\n",
    "medium_label = tk.Label(root, text=\"Medium of the Campaign:\")\n",
    "medium_label.grid(row=2, column=0, sticky=\"w\")\n",
    "medium_entry = tk.Entry(root)\n",
    "medium_entry.grid(row=2, column=1)\n",
    "\n",
    "campaign_label = tk.Label(root, text=\"Name of the Partner:\")\n",
    "campaign_label.grid(row=3, column=0, sticky=\"w\")\n",
    "campaign_entry = tk.Entry(root)\n",
    "campaign_entry.grid(row=3, column=1)\n",
    "\n",
    "term_label = tk.Label(root, text=\"Name of the Product Advertised:\")\n",
    "term_label.grid(row=4, column=0, sticky=\"w\")\n",
    "term_entry = tk.Entry(root)\n",
    "term_entry.grid(row=4, column=1)\n",
    "\n",
    "generate_button = tk.Button(root, text=\"Generate UTM Link\", command=generator)\n",
    "generate_button.grid(row=5, column=0, columnspan=2, pady=10)\n",
    "\n",
    "result_label = tk.Label(root, text=\"\")\n",
    "result_label.grid(row=6, column=0, columnspan=2)\n",
    "\n",
    "root.mainloop()\n"
   ]
  },
  {
   "cell_type": "code",
   "execution_count": null,
   "id": "076a7ba3-34f1-4383-ac5e-611445696d56",
   "metadata": {},
   "outputs": [],
   "source": []
  }
 ],
 "metadata": {
  "kernelspec": {
   "display_name": "Python 3 (ipykernel)",
   "language": "python",
   "name": "python3"
  },
  "language_info": {
   "codemirror_mode": {
    "name": "ipython",
    "version": 3
   },
   "file_extension": ".py",
   "mimetype": "text/x-python",
   "name": "python",
   "nbconvert_exporter": "python",
   "pygments_lexer": "ipython3",
   "version": "3.11.5"
  }
 },
 "nbformat": 4,
 "nbformat_minor": 5
}
