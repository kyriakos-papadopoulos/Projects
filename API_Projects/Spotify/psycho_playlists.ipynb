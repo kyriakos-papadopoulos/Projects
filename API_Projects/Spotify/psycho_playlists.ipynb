{
 "cells": [
  {
   "cell_type": "code",
   "execution_count": 12,
   "id": "fd2fe3d8",
   "metadata": {},
   "outputs": [
    {
     "data": {
      "text/plain": [
       "True"
      ]
     },
     "execution_count": 12,
     "metadata": {},
     "output_type": "execute_result"
    }
   ],
   "source": [
    "import spotipy\n",
    "from spotipy.oauth2 import SpotifyOAuth\n",
    "import re\n",
    "import time\n",
    "import os\n",
    "from dotenv import load_dotenv\n",
    "load_dotenv()"
   ]
  },
  {
   "cell_type": "code",
   "execution_count": 13,
   "id": "6495af45",
   "metadata": {},
   "outputs": [],
   "source": [
    "def remove_special_characters(word):\n",
    "    # Remove all non-alphanumeric characters except spaces\n",
    "    return re.sub(r'[^A-Za-z0-9 ]+', '', word)\n"
   ]
  },
  {
   "cell_type": "code",
   "execution_count": 14,
   "id": "c1f2c947",
   "metadata": {},
   "outputs": [],
   "source": [
    "def get_spotify_instance():\n",
    "    sp_oauth = SpotifyOAuth(\n",
    "        client_id=os.getenv('SPOTIPY_CLIENT_ID'),\n",
    "        client_secret=os.getenv('SPOTIPY_CLIENT_SECRET'),\n",
    "        redirect_uri=os.getenv('SPOTIPY_REDIRECT_URI'),\n",
    "        scope='playlist-modify-public'\n",
    "    )\n",
    "    \n",
    "    token_info = sp_oauth.get_cached_token()\n",
    "    if not token_info:\n",
    "        token_info = sp_oauth.get_access_token()\n",
    "    \n",
    "    return spotipy.Spotify(auth=token_info['access_token'])"
   ]
  },
  {
   "cell_type": "code",
   "execution_count": 15,
   "id": "0f19bebe",
   "metadata": {},
   "outputs": [],
   "source": [
    "def safe_spotify_search(sp, query, retries=3, delay=1, max_results=200):\n",
    "    results = []\n",
    "    limit = 50\n",
    "    offset = 0\n",
    "\n",
    "    while offset < max_results:\n",
    "        for attempt in range(retries):\n",
    "            try:\n",
    "                response = sp.search(q=f'track:{query}', type='track', limit=limit, offset=offset)\n",
    "                tracks = response['tracks']['items']\n",
    "                if not tracks:\n",
    "                    print(f\"No more tracks found after {len(results)} results.\")\n",
    "                    return results\n",
    "                results.extend(tracks)\n",
    "                offset += limit\n",
    "                break  # Exit retry loop if successful\n",
    "            except spotipy.SpotifyException as e:\n",
    "                print(f\"Spotify API error: {e}\")\n",
    "                if '401' in str(e):\n",
    "                    print(\"Token might be invalid or expired. Refreshing token.\")\n",
    "                    sp = get_spotify_instance()\n",
    "                time.sleep(delay * (2 ** attempt))  # Exponential backoff\n",
    "        else:\n",
    "            print(\"Failed to get a valid response from Spotify after multiple attempts.\")\n",
    "            return results  # Return what was gathered so far\n",
    "    \n",
    "    return results"
   ]
  },
  {
   "cell_type": "code",
   "execution_count": 16,
   "id": "f4c4f87c",
   "metadata": {},
   "outputs": [],
   "source": [
    "def create_playlist_from_sentence():\n",
    "    # Prompt the user for input\n",
    "    sentence = input(\"Please enter the sentence to create a playlist from: \")\n",
    "    playlist_name = input(\"Please enter the playlist name: \")\n",
    "\n",
    "    sp = get_spotify_instance()\n",
    "    words = [remove_special_characters(word) for word in sentence.split()]\n",
    "    track_ids = []\n",
    "    i = 0\n",
    "    while i < len(words):\n",
    "        found_match = False\n",
    "        for j in range(4, 0, -1):\n",
    "            if i + j <= len(words):\n",
    "                combined_word = ' '.join(words[i:i + j])\n",
    "                print(f\"Searching for: {combined_word}\")\n",
    "                results = safe_spotify_search(sp, combined_word, max_results=400)  # Set max_results to 400\n",
    "                if results:\n",
    "                    for track in results:\n",
    "                        track_name_cleaned = track['name'].strip().lower()\n",
    "                        combined_word_cleaned = combined_word.lower()\n",
    "                        if track_name_cleaned == combined_word_cleaned:\n",
    "                            track_ids.append(track['id'])\n",
    "                            found_match = True\n",
    "                            i += j - 1\n",
    "                            break\n",
    "                    if found_match:\n",
    "                        break\n",
    "                time.sleep(0.5)\n",
    "        if not found_match:\n",
    "            print(f\"No exact match found for words: {' '.join(words[i:i + j])}\")\n",
    "            track_ids.append('69toZvLG490IrN6YtmN4wH')  # Placeholder track ID\n",
    "        i += 1\n",
    "\n",
    "    try:\n",
    "        user_id = sp.current_user()['id']\n",
    "        playlist = sp.user_playlist_create(user=user_id, name=playlist_name, public=True)\n",
    "        if track_ids:\n",
    "            sp.user_playlist_add_tracks(user=user_id, playlist_id=playlist['id'], tracks=track_ids)\n",
    "            print(f\"Playlist '{playlist_name}' created successfully!\")\n",
    "        else:\n",
    "            print(\"No tracks were added to the playlist.\")\n",
    "    except spotipy.SpotifyException as e:\n",
    "        print(f\"Error creating playlist: {e}\")"
   ]
  },
  {
   "cell_type": "code",
   "execution_count": 17,
   "id": "128c3198",
   "metadata": {
    "scrolled": true
   },
   "outputs": [
    {
     "name": "stdout",
     "output_type": "stream",
     "text": [
      "Please enter the sentence to create a playlist from: Here we go again, one last test\n",
      "Please enter the playlist name: test\n",
      "Searching for: Here we go again\n",
      "Searching for: one last test\n",
      "No more tracks found after 13 results.\n",
      "Searching for: one last\n",
      "Searching for: test\n",
      "Playlist 'test' created successfully!\n"
     ]
    }
   ],
   "source": [
    "create_playlist_from_sentence()"
   ]
  },
  {
   "cell_type": "code",
   "execution_count": 10,
   "id": "cf592e86",
   "metadata": {},
   "outputs": [
    {
     "data": {
      "text/plain": [
       "True"
      ]
     },
     "execution_count": 10,
     "metadata": {},
     "output_type": "execute_result"
    }
   ],
   "source": []
  },
  {
   "cell_type": "code",
   "execution_count": null,
   "id": "1d88925b",
   "metadata": {},
   "outputs": [],
   "source": []
  }
 ],
 "metadata": {
  "kernelspec": {
   "display_name": "Python 3 (ipykernel)",
   "language": "python",
   "name": "python3"
  },
  "language_info": {
   "codemirror_mode": {
    "name": "ipython",
    "version": 3
   },
   "file_extension": ".py",
   "mimetype": "text/x-python",
   "name": "python",
   "nbconvert_exporter": "python",
   "pygments_lexer": "ipython3",
   "version": "3.7.6"
  }
 },
 "nbformat": 4,
 "nbformat_minor": 5
}
