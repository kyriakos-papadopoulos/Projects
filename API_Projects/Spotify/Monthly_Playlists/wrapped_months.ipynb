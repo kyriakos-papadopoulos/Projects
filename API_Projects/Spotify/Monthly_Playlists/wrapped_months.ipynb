{
 "cells": [
  {
   "cell_type": "code",
   "execution_count": 1,
   "id": "76ce759a",
   "metadata": {},
   "outputs": [],
   "source": [
    "import spotipy\n",
    "from spotipy.oauth2 import SpotifyOAuth\n",
    "import re\n",
    "import time\n",
    "import os\n",
    "from dotenv import load_dotenv\n",
    "import json\n",
    "import pandas as pd\n",
    "from tqdm import tqdm\n",
    "from datetime import datetime\n",
    "from tqdm import tqdm\n",
    "import calendar\n",
    "import random\n",
    "import numpy as np\n",
    "import base64\n",
    "import requests"
   ]
  },
  {
   "cell_type": "code",
   "execution_count": 2,
   "id": "5ab26e6d",
   "metadata": {},
   "outputs": [],
   "source": [
    "load_dotenv()\n",
    "\n",
    "# Defining Spotify export data location\n",
    "data_directory = os.getenv('EXPORT_PATH')"
   ]
  },
  {
   "cell_type": "markdown",
   "id": "ae7225ea",
   "metadata": {},
   "source": [
    "### Identifying streaming history audio files."
   ]
  },
  {
   "cell_type": "code",
   "execution_count": 3,
   "id": "38e90265",
   "metadata": {},
   "outputs": [],
   "source": [
    "def find_streaming_history_files(directory):\n",
    "    try:\n",
    "        all_files = os.listdir(directory)\n",
    "        \n",
    "        streaming_history_files = [file for file in all_files if 'Streaming_History_Audio' in file]\n",
    "        \n",
    "        return streaming_history_files\n",
    "\n",
    "    except FileNotFoundError:\n",
    "        print(f\"Error: The directory '{directory}' was not found.\")\n",
    "        return []\n",
    "\n",
    "    except PermissionError:\n",
    "        print(f\"Error: You do not have permission to access the directory '{directory}'.\")\n",
    "        return []\n",
    "\n",
    "    except Exception as e:\n",
    "        print(f\"An unexpected error occurred: {e}\")\n",
    "        return []"
   ]
  },
  {
   "cell_type": "code",
   "execution_count": 4,
   "id": "4786d19c",
   "metadata": {},
   "outputs": [],
   "source": [
    "file_names = find_streaming_history_files(data_directory)"
   ]
  },
  {
   "cell_type": "markdown",
   "id": "b182db5f",
   "metadata": {},
   "source": [
    "### Loading and joining streaming data."
   ]
  },
  {
   "cell_type": "code",
   "execution_count": 5,
   "id": "71f971a4",
   "metadata": {},
   "outputs": [],
   "source": [
    "def load_and_join_streaming_data(directory, file_names):\n",
    "\n",
    "    streaming_data = []\n",
    "\n",
    "    for file_name in file_names:\n",
    "        file_path = os.path.join(directory, file_name)\n",
    "        try:\n",
    "            with open(file_path, 'r') as file:\n",
    "                data = json.load(file)\n",
    "                if isinstance(data, list):\n",
    "                    streaming_data.extend(data)  \n",
    "                else:\n",
    "                    streaming_data.append(data)  \n",
    "                print(f\"Appended data from {file_name}\")\n",
    "        except FileNotFoundError:\n",
    "            print(f\"Error: The file '{file_name}' was not found in the directory '{directory}'.\")\n",
    "        except json.JSONDecodeError:\n",
    "            print(f\"Error: Failed to decode JSON in the file '{file_name}'. The file might be corrupted.\")\n",
    "        except Exception as e:\n",
    "            print(f\"An unexpected error occurred while loading '{file_name}': {e}\")\n",
    "\n",
    "    return streaming_data"
   ]
  },
  {
   "cell_type": "code",
   "execution_count": 6,
   "id": "ed3f23cf",
   "metadata": {},
   "outputs": [
    {
     "name": "stdout",
     "output_type": "stream",
     "text": [
      "Appended data from Streaming_History_Audio_2022_4.json\n",
      "Appended data from Streaming_History_Audio_2023-2024_7.json\n",
      "Appended data from Streaming_History_Audio_2021-2022_3.json\n",
      "Appended data from Streaming_History_Audio_2024_8.json\n",
      "Appended data from Streaming_History_Audio_2023_6.json\n",
      "Appended data from Streaming_History_Audio_2020_0.json\n",
      "Appended data from Streaming_History_Audio_2020-2021_1.json\n",
      "Appended data from Streaming_History_Audio_2021_2.json\n",
      "Appended data from Streaming_History_Audio_2022-2023_5.json\n"
     ]
    }
   ],
   "source": [
    "streaming_data = load_and_join_streaming_data(data_directory,file_names)"
   ]
  },
  {
   "cell_type": "markdown",
   "id": "ec072123",
   "metadata": {},
   "source": [
    "### Converting data from list to a pandas dataframe."
   ]
  },
  {
   "cell_type": "code",
   "execution_count": 7,
   "id": "39934276",
   "metadata": {},
   "outputs": [],
   "source": [
    "def create_streaming_data_df(streaming_data):\n",
    "    rows = []\n",
    "\n",
    "    for entry in streaming_data:\n",
    "        spotify_track_uri = entry.get('spotify_track_uri', '')\n",
    "        track_id = spotify_track_uri.split(':')[-1] if spotify_track_uri else None\n",
    "\n",
    "        rows.append({\n",
    "            'endTime': entry['ts'],\n",
    "            'artistName': entry['master_metadata_album_artist_name'],\n",
    "            'trackName': entry['master_metadata_track_name'],\n",
    "            'msPlayed': entry['ms_played'],\n",
    "            'id': track_id \n",
    "        })\n",
    "\n",
    "    streaming_data_df = pd.DataFrame(rows)\n",
    "\n",
    "    streaming_data_df['endTime'] = pd.to_datetime(streaming_data_df['endTime'], format='%Y-%m-%dT%H:%M:%SZ')\n",
    "\n",
    "    return streaming_data_df"
   ]
  },
  {
   "cell_type": "code",
   "execution_count": 8,
   "id": "3d6980c8",
   "metadata": {},
   "outputs": [],
   "source": [
    "streaming_data_df = create_streaming_data_df(streaming_data)"
   ]
  },
  {
   "cell_type": "markdown",
   "id": "6f9785bc",
   "metadata": {},
   "source": [
    "### Removing rows with Na IDs and creating new columns for easier grouping ."
   ]
  },
  {
   "cell_type": "code",
   "execution_count": 9,
   "id": "3dc71137",
   "metadata": {},
   "outputs": [],
   "source": [
    "streaming_data_df = streaming_data_df.dropna(subset=['id'])"
   ]
  },
  {
   "cell_type": "code",
   "execution_count": 10,
   "id": "21008775",
   "metadata": {},
   "outputs": [],
   "source": [
    "streaming_data_df['month'] = streaming_data_df['endTime'].dt.month\n",
    "streaming_data_df['year'] = streaming_data_df['endTime'].dt.year"
   ]
  },
  {
   "cell_type": "markdown",
   "id": "d9d52ee6",
   "metadata": {},
   "source": [
    "### Creating Spotify Web API instance."
   ]
  },
  {
   "cell_type": "code",
   "execution_count": 11,
   "id": "cccb9270",
   "metadata": {},
   "outputs": [],
   "source": [
    "def get_spotify_instance():\n",
    "    load_dotenv()\n",
    "\n",
    "    sp_oauth = SpotifyOAuth(\n",
    "        client_id=os.getenv('SPOTIPY_CLIENT_ID'),\n",
    "        client_secret=os.getenv('SPOTIPY_CLIENT_SECRET'),\n",
    "        redirect_uri=os.getenv('SPOTIPY_REDIRECT_URI'),\n",
    "        scope='playlist-modify-public playlist-modify-private playlist-read-private',\n",
    "        cache_path='.spotipyoauthcache'\n",
    "    )\n",
    "\n",
    "    try:\n",
    "        token_info = sp_oauth.get_cached_token()\n",
    "\n",
    "        if not token_info:\n",
    "            print(\"No cached token found. Attempting to retrieve a new one...\")\n",
    "            token_info = sp_oauth.get_access_token(as_dict=True)\n",
    "\n",
    "        return spotipy.Spotify(auth=token_info['access_token'], requests_timeout=20)\n",
    "    \n",
    "    except Exception as e:\n",
    "        print(f\"Error retrieving token: {e}\")\n",
    "        return None"
   ]
  },
  {
   "cell_type": "markdown",
   "id": "5321ec1b",
   "metadata": {},
   "source": [
    "### Removing specific playlists from analysis.\n",
    "- **If these playlists do not include unique songs, the analysis might be inaccurate.**\n",
    "    - On the other hand, this can be used to our advantage. If you want to exclude specific songs from the analysis you can manually create a playlist of songs to exclude and then pass it through the function. "
   ]
  },
  {
   "cell_type": "code",
   "execution_count": 12,
   "id": "c358c218",
   "metadata": {},
   "outputs": [],
   "source": [
    "def remove_playlists(df):\n",
    "    sp = get_spotify_instance()\n",
    "    playlists_input = input('Enter the names of the playlists you would like to remove, separated by commas (enter \"exit!\" to continue without removing any playlist): ')\n",
    "    \n",
    "    if playlists_input.strip() == \"exit!\":\n",
    "        print(\"No playlists entered. Exiting the function.\")\n",
    "        return df\n",
    "    \n",
    "    playlists_to_remove = [playlist.strip() for playlist in playlists_input.split(',')]\n",
    "    \n",
    "    playlists = dict()\n",
    "    songs = set()\n",
    "    idx_to_drop = list()\n",
    "\n",
    "    limit = 50\n",
    "    offset = 0 \n",
    "    \n",
    "    while True:\n",
    "        result = sp.current_user_playlists(limit=limit, offset=offset)\n",
    "        for item in result['items']:\n",
    "            playlists[item['name']] = item['id']\n",
    "        if len(result['items']) < limit:\n",
    "            break\n",
    "        offset += limit\n",
    "    \n",
    "    for playlist in playlists_to_remove:\n",
    "        if playlist not in playlists:\n",
    "            print(f'The playlist name \"{playlist}\" does not exist in your library. Skipping.')\n",
    "            continue\n",
    "        else:\n",
    "            print(f'Removing playlist: {playlist}')\n",
    "            response = sp.playlist(playlist_id=playlists[playlist])\n",
    "            for track in response['tracks']['items']:\n",
    "                songs.add(track['track']['id'])\n",
    "    \n",
    "    for idx, row in df.iterrows():\n",
    "        if row['id'] in songs:\n",
    "            idx_to_drop.append(idx)\n",
    "    \n",
    "    df.drop(idx_to_drop, inplace=True)\n",
    "    df.to_pickle(os.path.join(os.getcwd(),'streaming_data_df.pkl'))\n",
    "    \n",
    "    return df"
   ]
  },
  {
   "cell_type": "code",
   "execution_count": 13,
   "id": "1a4fb801",
   "metadata": {},
   "outputs": [
    {
     "name": "stdout",
     "output_type": "stream",
     "text": [
      "Enter the names of the playlists you would like to remove, separated by commas (enter \"exit!\" to continue without removing any playlist): exit!\n",
      "No playlists entered. Exiting the function.\n"
     ]
    }
   ],
   "source": [
    "filtered_streaming_data_df = remove_playlists(streaming_data_df)"
   ]
  },
  {
   "cell_type": "markdown",
   "id": "8ed37722",
   "metadata": {},
   "source": [
    "### Creating playlists"
   ]
  },
  {
   "cell_type": "code",
   "execution_count": 14,
   "id": "4fdef66c",
   "metadata": {},
   "outputs": [],
   "source": [
    "def create_monthly_playlists(df):\n",
    "    sp = get_spotify_instance()\n",
    "        \n",
    "    grouped_df = df.groupby(['year', 'month', 'id'], as_index=False).agg({'msPlayed': 'sum'})\n",
    "    \n",
    "    for (year, month), group in grouped_df.groupby(['year', 'month']):\n",
    "        top_tracks = group.sort_values(by='msPlayed', ascending=False).head(20)\n",
    "        track_ids = top_tracks['id'].tolist()\n",
    "        \n",
    "        month_name = calendar.month_name[month]\n",
    "        playlist_name = f\"{month_name} {year}\"\n",
    "        playlist_description = \"https://github.com/kyriakos-papadopoulos/Projects/tree/main/API_Projects/Spotify/Monthly_Playlists\"\n",
    "        \n",
    "        try:\n",
    "            user_id = sp.current_user()['id']\n",
    "            playlist = sp.user_playlist_create(user=user_id, name=playlist_name, public=True, description=playlist_description)\n",
    "            \n",
    "            if track_ids:\n",
    "                sp.user_playlist_add_tracks(user=user_id, playlist_id=playlist['id'], tracks=track_ids)\n",
    "                print(f\"Playlist '{playlist_name}' created successfully!\")\n",
    "            else:\n",
    "                print(f\"No tracks were added to the playlist '{playlist_name}'.\")\n",
    "            \n",
    "            time.sleep(2)\n",
    "            \n",
    "        except spotipy.SpotifyException as e:\n",
    "            print(f\"Error creating playlist '{playlist_name}': {e}\")"
   ]
  },
  {
   "cell_type": "code",
   "execution_count": 15,
   "id": "54408e9c",
   "metadata": {},
   "outputs": [
    {
     "name": "stdout",
     "output_type": "stream",
     "text": [
      "Playlist 'April 2020' created successfully!\n",
      "Playlist 'May 2020' created successfully!\n",
      "Playlist 'June 2020' created successfully!\n",
      "Playlist 'July 2020' created successfully!\n",
      "Playlist 'August 2020' created successfully!\n",
      "Playlist 'September 2020' created successfully!\n",
      "Playlist 'October 2020' created successfully!\n",
      "Playlist 'November 2020' created successfully!\n",
      "Playlist 'December 2020' created successfully!\n",
      "Playlist 'January 2021' created successfully!\n",
      "Playlist 'February 2021' created successfully!\n",
      "Playlist 'March 2021' created successfully!\n",
      "Playlist 'April 2021' created successfully!\n",
      "Playlist 'May 2021' created successfully!\n",
      "Playlist 'June 2021' created successfully!\n",
      "Playlist 'July 2021' created successfully!\n",
      "Playlist 'August 2021' created successfully!\n",
      "Playlist 'September 2021' created successfully!\n",
      "Playlist 'October 2021' created successfully!\n",
      "Playlist 'November 2021' created successfully!\n",
      "Playlist 'December 2021' created successfully!\n",
      "Playlist 'January 2022' created successfully!\n",
      "Playlist 'February 2022' created successfully!\n",
      "Playlist 'March 2022' created successfully!\n",
      "Playlist 'April 2022' created successfully!\n",
      "Playlist 'May 2022' created successfully!\n",
      "Playlist 'June 2022' created successfully!\n",
      "Playlist 'July 2022' created successfully!\n",
      "Playlist 'August 2022' created successfully!\n",
      "Playlist 'September 2022' created successfully!\n",
      "Playlist 'October 2022' created successfully!\n",
      "Playlist 'November 2022' created successfully!\n",
      "Playlist 'December 2022' created successfully!\n",
      "Playlist 'January 2023' created successfully!\n",
      "Playlist 'February 2023' created successfully!\n",
      "Playlist 'March 2023' created successfully!\n",
      "Playlist 'April 2023' created successfully!\n",
      "Playlist 'May 2023' created successfully!\n",
      "Playlist 'June 2023' created successfully!\n",
      "Playlist 'July 2023' created successfully!\n",
      "Playlist 'August 2023' created successfully!\n",
      "Playlist 'September 2023' created successfully!\n",
      "Playlist 'October 2023' created successfully!\n",
      "Playlist 'November 2023' created successfully!\n",
      "Playlist 'December 2023' created successfully!\n",
      "Playlist 'January 2024' created successfully!\n",
      "Playlist 'February 2024' created successfully!\n",
      "Playlist 'March 2024' created successfully!\n",
      "Playlist 'April 2024' created successfully!\n",
      "Playlist 'May 2024' created successfully!\n",
      "Playlist 'June 2024' created successfully!\n",
      "Playlist 'July 2024' created successfully!\n",
      "Playlist 'August 2024' created successfully!\n"
     ]
    }
   ],
   "source": [
    "create_monthly_playlists(filtered_streaming_data_df)"
   ]
  },
  {
   "cell_type": "code",
   "execution_count": null,
   "id": "3a122333",
   "metadata": {},
   "outputs": [],
   "source": []
  }
 ],
 "metadata": {
  "kernelspec": {
   "display_name": "Python 3 (ipykernel)",
   "language": "python",
   "name": "python3"
  },
  "language_info": {
   "codemirror_mode": {
    "name": "ipython",
    "version": 3
   },
   "file_extension": ".py",
   "mimetype": "text/x-python",
   "name": "python",
   "nbconvert_exporter": "python",
   "pygments_lexer": "ipython3",
   "version": "3.7.6"
  }
 },
 "nbformat": 4,
 "nbformat_minor": 5
}
