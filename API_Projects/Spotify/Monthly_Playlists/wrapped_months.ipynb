{
 "cells": [
  {
   "cell_type": "code",
   "execution_count": null,
   "id": "76ce759a",
   "metadata": {},
   "outputs": [],
   "source": [
    "import spotipy\n",
    "from spotipy.oauth2 import SpotifyOAuth\n",
    "import re\n",
    "import time\n",
    "import os\n",
    "from dotenv import load_dotenv\n",
    "import json\n",
    "import pandas as pd\n",
    "from tqdm import tqdm\n",
    "from datetime import datetime\n",
    "from tqdm import tqdm\n",
    "import calendar\n",
    "import random\n",
    "import numpy as np\n",
    "import base64\n",
    "import requests"
   ]
  },
  {
   "cell_type": "code",
   "execution_count": null,
   "id": "5ab26e6d",
   "metadata": {},
   "outputs": [],
   "source": [
    "load_dotenv()\n",
    "\n",
    "# Defining Spotify export data location\n",
    "data_directory = os.getenv('EXPORT_PATH')\n",
    "\n",
    "# Creating a new directory in order to better organize the pickle files to be created\n",
    "pickle_directory = os.path.join(os.getcwd(),'pickle_files')\n",
    "os.makedirs(pickle_directory, exist_ok=True)"
   ]
  },
  {
   "cell_type": "markdown",
   "id": "0b6604fa",
   "metadata": {},
   "source": [
    "## Extract information from spotify account data export"
   ]
  },
  {
   "cell_type": "markdown",
   "id": "ae7225ea",
   "metadata": {},
   "source": [
    "### Identify streaming history music files"
   ]
  },
  {
   "cell_type": "code",
   "execution_count": null,
   "id": "38e90265",
   "metadata": {},
   "outputs": [],
   "source": [
    "def find_streaming_history_files(directory):\n",
    "    try:\n",
    "        all_files = os.listdir(directory)\n",
    "        \n",
    "        streaming_history_files = [file for file in all_files if 'StreamingHistory_music' in file]\n",
    "        \n",
    "        return streaming_history_files\n",
    "\n",
    "    except FileNotFoundError:\n",
    "        print(f\"Error: The directory '{directory}' was not found.\")\n",
    "        return []\n",
    "\n",
    "    except PermissionError:\n",
    "        print(f\"Error: You do not have permission to access the directory '{directory}'.\")\n",
    "        return []\n",
    "\n",
    "    except Exception as e:\n",
    "        print(f\"An unexpected error occurred: {e}\")\n",
    "        return []"
   ]
  },
  {
   "cell_type": "code",
   "execution_count": null,
   "id": "4786d19c",
   "metadata": {},
   "outputs": [],
   "source": [
    "file_names = find_streaming_history_files(data_directory)"
   ]
  },
  {
   "cell_type": "markdown",
   "id": "b182db5f",
   "metadata": {},
   "source": [
    "### Load and join streaming data"
   ]
  },
  {
   "cell_type": "code",
   "execution_count": null,
   "id": "71f971a4",
   "metadata": {},
   "outputs": [],
   "source": [
    "def load_and_join_streaming_data(directory, file_names):\n",
    "\n",
    "    streaming_data = []\n",
    "\n",
    "    for file_name in file_names:\n",
    "        file_path = os.path.join(directory, file_name)\n",
    "        try:\n",
    "            with open(file_path, 'r') as file:\n",
    "                data = json.load(file)\n",
    "                if isinstance(data, list):\n",
    "                    streaming_data.extend(data)  \n",
    "                else:\n",
    "                    streaming_data.append(data)  \n",
    "                print(f\"Appended data from {file_name}\")\n",
    "        except FileNotFoundError:\n",
    "            print(f\"Error: The file '{file_name}' was not found in the directory '{directory}'.\")\n",
    "        except json.JSONDecodeError:\n",
    "            print(f\"Error: Failed to decode JSON in the file '{file_name}'. The file might be corrupted.\")\n",
    "        except Exception as e:\n",
    "            print(f\"An unexpected error occurred while loading '{file_name}': {e}\")\n",
    "\n",
    "    return streaming_data"
   ]
  },
  {
   "cell_type": "code",
   "execution_count": null,
   "id": "ed3f23cf",
   "metadata": {},
   "outputs": [],
   "source": [
    "streaming_data = load_and_join_streaming_data(data_directory,file_names)"
   ]
  },
  {
   "cell_type": "markdown",
   "id": "ec072123",
   "metadata": {},
   "source": [
    "### Convert data from list to df"
   ]
  },
  {
   "cell_type": "code",
   "execution_count": null,
   "id": "39934276",
   "metadata": {},
   "outputs": [],
   "source": [
    "def create_streaming_data_df(streaming_data):\n",
    "\n",
    "    rows = []\n",
    "\n",
    "    for entry in streaming_data:\n",
    "            rows.append({\n",
    "                'endTime': entry['endTime'],\n",
    "                'artistName': entry['artistName'],\n",
    "                'trackName': entry['trackName'],\n",
    "                'msPlayed': entry['msPlayed']\n",
    "            })\n",
    "\n",
    "    streaming_data_df = pd.DataFrame(rows)\n",
    "\n",
    "    streaming_data_df['endTime'] = pd.to_datetime(streaming_data_df['endTime'], format='%Y-%m-%d %H:%M')\n",
    "\n",
    "    output_pickle_path = os.path.join(pickle_directory, 'streaming_data_df.pkl')\n",
    "\n",
    "    streaming_data_df.to_pickle(output_pickle_path)\n",
    "    print(f\"DataFrame saved as pickle file at: {output_pickle_path}\")\n",
    "\n",
    "    return streaming_data_df"
   ]
  },
  {
   "cell_type": "code",
   "execution_count": null,
   "id": "3d6980c8",
   "metadata": {},
   "outputs": [],
   "source": [
    "create_streaming_data_df(streaming_data)"
   ]
  },
  {
   "cell_type": "markdown",
   "id": "327eb715",
   "metadata": {},
   "source": [
    "## Get more additional information using the Spotify Web API"
   ]
  },
  {
   "cell_type": "markdown",
   "id": "72bbfe42",
   "metadata": {},
   "source": [
    "### Create Spotify Web API instance."
   ]
  },
  {
   "cell_type": "code",
   "execution_count": null,
   "id": "8ab96077",
   "metadata": {},
   "outputs": [],
   "source": [
    "def get_spotify_instance():\n",
    "    load_dotenv()\n",
    "\n",
    "    sp_oauth = SpotifyOAuth(\n",
    "        client_id=os.getenv('SPOTIPY_CLIENT_ID'),\n",
    "        client_secret=os.getenv('SPOTIPY_CLIENT_SECRET'),\n",
    "        redirect_uri=os.getenv('SPOTIPY_REDIRECT_URI'),\n",
    "        scope='ugc-image-upload playlist-modify-public playlist-modify-private playlist-read-private',\n",
    "        cache_path='.spotipyoauthcache'\n",
    "    )\n",
    "\n",
    "    try:\n",
    "        token_info = sp_oauth.get_cached_token()\n",
    "\n",
    "        if not token_info:\n",
    "            token_info = sp_oauth.get_access_token(as_dict=False)\n",
    "\n",
    "        return spotipy.Spotify(auth=token_info['access_token'])\n",
    "    \n",
    "    except Exception as e:\n",
    "        print(f\"Error retrieving token: {e}\")\n",
    "        return None"
   ]
  },
  {
   "cell_type": "markdown",
   "id": "52d1911b",
   "metadata": {},
   "source": [
    "### Create a df with the unique songs from streaming_data_df in order to make the API query less time consuming."
   ]
  },
  {
   "cell_type": "code",
   "execution_count": null,
   "id": "b933acc3",
   "metadata": {},
   "outputs": [],
   "source": [
    "streaming_data_df = pd.read_pickle(os.path.join(pickle_directory,'streaming_data_df.pkl'))\n",
    "song_data_df = streaming_data_df.drop_duplicates(subset=['trackName'])\n",
    "song_data_df.to_pickle(os.path.join(pickle_directory, 'song_data_df.pkl'))"
   ]
  },
  {
   "cell_type": "markdown",
   "id": "033ca262",
   "metadata": {},
   "source": [
    "### Query spotify and update song_data_df with the additional information."
   ]
  },
  {
   "cell_type": "code",
   "execution_count": null,
   "id": "48353ecc",
   "metadata": {},
   "outputs": [],
   "source": [
    "def query_track_info(df, artist_col='artistName', track_col='trackName'):\n",
    "    sp = get_spotify_instance()\n",
    "    durations = []\n",
    "    spotify_ids = []\n",
    "    \n",
    "    for idx, row in tqdm(df.iterrows(), total=len(df), desc=\"Querying Spotify\"):\n",
    "        query = f\"track:{row[track_col]} artist:{row[artist_col]}\"\n",
    "        results = sp.search(q=query, type='track', limit=1)\n",
    "        \n",
    "        if results['tracks']['items']:\n",
    "            track_info = results['tracks']['items'][0]\n",
    "            durations.append(track_info['duration_ms'])\n",
    "            spotify_ids.append(track_info['id'])\n",
    "        else:\n",
    "            durations.append(None)\n",
    "            spotify_ids.append(None)\n",
    "    \n",
    "    df['duration'] = durations\n",
    "    df['spotify_id'] = spotify_ids\n",
    "    \n",
    "    df.to_pickle(os.path.join(pickle_directory, 'final_song_data_df.pkl'))\n",
    "    \n",
    "    return df"
   ]
  },
  {
   "cell_type": "code",
   "execution_count": null,
   "id": "09763483",
   "metadata": {
    "scrolled": true
   },
   "outputs": [],
   "source": [
    "query_track_info(song_data_df)"
   ]
  },
  {
   "cell_type": "markdown",
   "id": "12833608",
   "metadata": {},
   "source": [
    "## Preparation of final dataframe"
   ]
  },
  {
   "cell_type": "markdown",
   "id": "6f9785bc",
   "metadata": {},
   "source": [
    "### Cleaning."
   ]
  },
  {
   "cell_type": "code",
   "execution_count": null,
   "id": "036a2838",
   "metadata": {
    "scrolled": true
   },
   "outputs": [],
   "source": [
    "# Loading dataframes from pickle.\n",
    "final_song_data_df = pd.read_pickle(os.path.join(pickle_directory, 'final_song_data_df.pkl'))\n",
    "final_streaming_data_df = pd.read_pickle(os.path.join(pickle_directory, 'streaming_data_df.pkl'))"
   ]
  },
  {
   "cell_type": "code",
   "execution_count": null,
   "id": "b1e8aab5",
   "metadata": {},
   "outputs": [],
   "source": [
    "# Merging 'final_streaming_data_df' with 'final_song_data_df' to add 'duration' and 'spotify_id' columns.\n",
    "final_streaming_data_df = final_streaming_data_df.merge(\n",
    "    final_song_data_df[['trackName', 'duration', 'spotify_id']],\n",
    "    on='trackName',\n",
    "    how='left'\n",
    ")"
   ]
  },
  {
   "cell_type": "code",
   "execution_count": null,
   "id": "2fe642bb",
   "metadata": {},
   "outputs": [],
   "source": [
    "# Creating 'play_ratio' column as it provides a more nuanced view of listening behavior.\n",
    "final_streaming_data_df['play_ratio'] = final_streaming_data_df['msPlayed']/final_streaming_data_df['duration']"
   ]
  },
  {
   "cell_type": "code",
   "execution_count": null,
   "id": "3dc71137",
   "metadata": {},
   "outputs": [],
   "source": [
    "# Dropping songs with no id. Could be due to renaming or removal.\n",
    "final_streaming_data_df = final_streaming_data_df.dropna(subset=['spotify_id'])"
   ]
  },
  {
   "cell_type": "code",
   "execution_count": null,
   "id": "21008775",
   "metadata": {},
   "outputs": [],
   "source": [
    "# Creating 'month' and 'year' columns for easier grouping later.\n",
    "final_streaming_data_df['month'] = final_streaming_data_df['endTime'].dt.month\n",
    "final_streaming_data_df['year'] = final_streaming_data_df['endTime'].dt.year"
   ]
  },
  {
   "cell_type": "code",
   "execution_count": null,
   "id": "c2d57335",
   "metadata": {},
   "outputs": [],
   "source": [
    "# Saving dataframe to pickle.\n",
    "final_streaming_data_df.to_pickle(os.path.join(pickle_directory, 'final_streaming_data_df.pkl'))"
   ]
  },
  {
   "cell_type": "code",
   "execution_count": null,
   "id": "907a559d",
   "metadata": {},
   "outputs": [],
   "source": [
    "final_streaming_data_df.shape"
   ]
  },
  {
   "cell_type": "markdown",
   "id": "5321ec1b",
   "metadata": {},
   "source": [
    "### Removal specific playlists from analysis. If playlists do not include unique songs then the anlaysis might be inaccurate."
   ]
  },
  {
   "cell_type": "code",
   "execution_count": null,
   "id": "c358c218",
   "metadata": {},
   "outputs": [],
   "source": [
    "def remove_playlists(df):\n",
    "    sp = get_spotify_instance()\n",
    "    playlists_input = input('Enter the names of the playlists you would like to remove, separated by commas (enter \"none!\" to continue without removing any playlist): ')\n",
    "    \n",
    "    # Check if the input is empty\n",
    "    if playlists_input.strip() == \"none!\":\n",
    "        print(\"No playlists entered. Exiting the function.\")\n",
    "        return df\n",
    "    \n",
    "    playlists_to_remove = [playlist.strip() for playlist in playlists_input.split(',')]  # Split input by commas\n",
    "    \n",
    "    playlists = dict()\n",
    "    songs = set()\n",
    "    idx_to_drop = list()\n",
    "\n",
    "    limit = 50\n",
    "    offset = 0 \n",
    "    \n",
    "    # Retrieve all playlists from the user's library\n",
    "    while True:\n",
    "        result = sp.current_user_playlists(limit=limit, offset=offset)\n",
    "        for item in result['items']:\n",
    "            playlists[item['name']] = item['id']\n",
    "        if len(result['items']) < limit:\n",
    "            break\n",
    "        offset += limit\n",
    "    \n",
    "    # Ensure that each playlist is processed individually\n",
    "    for playlist in playlists_to_remove:\n",
    "        if playlist not in playlists:\n",
    "            print(f'The playlist name \"{playlist}\" does not exist in your library. Skipping.')\n",
    "            continue\n",
    "        else:\n",
    "            print(f'Removing playlist: {playlist}')\n",
    "            response = sp.playlist(playlist_id=playlists[playlist])\n",
    "            for track in response['tracks']['items']:\n",
    "                songs.add(track['track']['id'])\n",
    "    \n",
    "    # Remove songs from the DataFrame\n",
    "    for idx, row in df.iterrows():\n",
    "        if row['spotify_id'] in songs:\n",
    "            idx_to_drop.append(idx)\n",
    "    \n",
    "    df.drop(idx_to_drop, inplace=True)\n",
    "    df.to_pickle(os.path.join(pickle_directory,'filtered_final_streaming_data_df.pkl'))\n",
    "    \n",
    "    return df"
   ]
  },
  {
   "cell_type": "code",
   "execution_count": null,
   "id": "1a4fb801",
   "metadata": {},
   "outputs": [],
   "source": [
    "remove_playlists(final_streaming_data_df)"
   ]
  },
  {
   "cell_type": "code",
   "execution_count": null,
   "id": "b43d288a",
   "metadata": {},
   "outputs": [],
   "source": [
    "if os.path.exists(os.path.join(os.getcwd(),'filtered_final_streaming_data_df.pkl')):\n",
    "    filtered_final_streaming_data_df = pd.read_pickle(os.path.join(pickle_directory,'filtered_final_streaming_data_df.pkl'))\n",
    "    print(\"File loaded successfully.\")\n",
    "    filtered_final_streaming_data_df.shape\n",
    "else:\n",
    "    print(\"File does not exist. Continuing without loading.\")"
   ]
  },
  {
   "cell_type": "markdown",
   "id": "8ed37722",
   "metadata": {},
   "source": [
    "## Create playlists"
   ]
  },
  {
   "cell_type": "code",
   "execution_count": null,
   "id": "4fdef66c",
   "metadata": {},
   "outputs": [],
   "source": [
    "def create_monthly_playlists(df):\n",
    "    sp = get_spotify_instance()\n",
    "        \n",
    "    # Group by year and month, then get the top 20 tracks by play_ratio\n",
    "    grouped_df = df.groupby(['year', 'month', 'spotify_id'], as_index=False).agg({'play_ratio': 'sum'})\n",
    "    \n",
    "    for (year, month), group in grouped_df.groupby(['year', 'month']):\n",
    "        # Sort by play_ratio and select the top 20 tracks\n",
    "        top_tracks = group.sort_values(by='play_ratio', ascending=False).head(20)\n",
    "        track_ids = top_tracks['spotify_id'].tolist()\n",
    "        \n",
    "        # Format the playlist name\n",
    "        month_name = calendar.month_name[month]\n",
    "        playlist_name = f\"{month_name} {year}\"\n",
    "        playlist_description = \"https://github.com/kyriakos-papadopoulos/Projects/tree/main/API_Projects/Spotify/Monthly_Playlists\"\n",
    "        \n",
    "        try:\n",
    "            # Create the playlist with a description\n",
    "            user_id = sp.current_user()['id']\n",
    "            playlist = sp.user_playlist_create(user=user_id, name=playlist_name, public=True, description=playlist_description)\n",
    "            \n",
    "            if track_ids:\n",
    "                # Add the top 20 tracks to the playlist\n",
    "                sp.user_playlist_add_tracks(user=user_id, playlist_id=playlist['id'], tracks=track_ids)\n",
    "                print(f\"Playlist '{playlist_name}' created successfully!\")\n",
    "            else:\n",
    "                print(f\"No tracks were added to the playlist '{playlist_name}'.\")\n",
    "        \n",
    "        except spotipy.SpotifyException as e:\n",
    "            print(f\"Error creating playlist '{playlist_name}': {e}\")"
   ]
  },
  {
   "cell_type": "code",
   "execution_count": null,
   "id": "54408e9c",
   "metadata": {},
   "outputs": [],
   "source": [
    "if os.path.exists(os.path.join(pickle_directory,'filtered_final_streaming_data_df.pkl')):\n",
    "    filtered_final_streaming_data_df = pd.read_pickle(os.path.join(pickle_directory,'filtered_final_streaming_data_df.pkl'))\n",
    "    create_monthly_playlists(filtered_final_streaming_data_df)\n",
    "else:\n",
    "    create_monthly_playlists(final_streaming_data_df)"
   ]
  },
  {
   "cell_type": "code",
   "execution_count": null,
   "id": "25f0a90a",
   "metadata": {},
   "outputs": [],
   "source": [
    "# Keep getting HTTP errors. Seek help in spotify dev forum or contact spotify dev support...\n",
    "\n",
    "\"\"\"def set_playlist_covers(sp, playlist_ids_file='playlist_ids.json', covers_dir='/Users/kyriakospapadopoulos/Desktop/University/Big Blue Data Academy/Personal/Projects/API_Projects/Spotify/Monthly_Playlists/covers', delay=2):\n",
    "    # Load the playlist IDs from the JSON file\n",
    "    with open(playlist_ids_file, 'r') as f:\n",
    "        playlist_ids = json.load(f)\n",
    "    \n",
    "    for playlist_name, playlist_id in playlist_ids.items():\n",
    "        # Split the playlist name to get the month and year\n",
    "        month_name, year = playlist_name.split()\n",
    "        month_abbr = month_name[:3].upper()\n",
    "\n",
    "        # Get the zero-padded month number\n",
    "        month_number = str(list(calendar.month_name).index(month_name.capitalize())).zfill(2)\n",
    "\n",
    "        # Construct the correct image filename\n",
    "        image_filename = f\"{year}_{month_number}_{month_abbr}.png\"\n",
    "        image_path = os.path.join(covers_dir, image_filename)\n",
    "\n",
    "        if os.path.exists(image_path):\n",
    "            try:\n",
    "                # Open and convert the image to JPEG and resize if necessary\n",
    "                with Image.open(image_path) as img:\n",
    "                    img = img.convert('RGB')\n",
    "                    img = img.resize((640, 640), Image.ANTIALIAS)\n",
    "                    \n",
    "                    # Save the image to a temporary file in JPEG format\n",
    "                    temp_image_path = os.path.join(covers_dir, \"temp_image.jpg\")\n",
    "                    img.save(temp_image_path, format=\"JPEG\", quality=85)\n",
    "                    \n",
    "                    # Read the image file and encode it to base64\n",
    "                    with open(temp_image_path, 'rb') as image_file:\n",
    "                        image_b64 = base64.b64encode(image_file.read()).decode('utf-8')\n",
    "                        sp.playlist_upload_cover_image(playlist_id=playlist_id, image_b64=image_b64)\n",
    "                    print(f\"Cover image set for playlist '{playlist_name}'\")\n",
    "                    \n",
    "                    # Clean up the temporary file\n",
    "                    os.remove(temp_image_path)\n",
    "                    \n",
    "            except spotipy.SpotifyException as e:\n",
    "                print(f\"Error setting cover for playlist '{playlist_name}': {e}\")\n",
    "            except Exception as e:\n",
    "                print(f\"Unexpected error for playlist '{playlist_name}': {e}\")\n",
    "        else:\n",
    "            print(f\"No cover image found for playlist '{playlist_name}'\")\n",
    "        \n",
    "        # Sleep for a short period to avoid hitting rate limits\n",
    "        time.sleep(delay)\"\"\""
   ]
  },
  {
   "cell_type": "markdown",
   "id": "d93a2053",
   "metadata": {},
   "source": [
    "#### Error info:\n",
    "\n",
    "HTTP Error for PUT to https://api.spotify.com/v1/playlists/3UzKL7EgBYmHFFOGOeSTSY/images with Params: {} returned 413 due to None\n"
   ]
  },
  {
   "cell_type": "code",
   "execution_count": null,
   "id": "3a122333",
   "metadata": {},
   "outputs": [],
   "source": []
  }
 ],
 "metadata": {
  "kernelspec": {
   "display_name": "Python 3 (ipykernel)",
   "language": "python",
   "name": "python3"
  },
  "language_info": {
   "codemirror_mode": {
    "name": "ipython",
    "version": 3
   },
   "file_extension": ".py",
   "mimetype": "text/x-python",
   "name": "python",
   "nbconvert_exporter": "python",
   "pygments_lexer": "ipython3",
   "version": "3.7.6"
  }
 },
 "nbformat": 4,
 "nbformat_minor": 5
}
